{
 "cells": [
  {
   "cell_type": "code",
   "execution_count": null,
   "metadata": {},
   "outputs": [],
   "source": [
    "import pandas as pd\n",
    "\n",
    "# Dados de exemplo\n",
    "data = {\n",
    "    'nome do arquivo pdf': [],\n",
    "    'valor total da fatura': [],\n",
    "    'codigo de barras': []\n",
    "}\n",
    "\n",
    "# Criação do DataFrame\n",
    "df = pd.DataFrame(data)\n",
    "\n",
    "# Exibir o DataFrame\n",
    "print(df)"
   ]
  },
  {
   "cell_type": "code",
   "execution_count": null,
   "metadata": {},
   "outputs": [],
   "source": [
    "import docx2txt\n",
    "\n",
    "result = docx2txt.process(\"zen_of_python.docx\")"
   ]
  },
  {
   "cell_type": "code",
   "execution_count": null,
   "metadata": {},
   "outputs": [],
   "source": [
    "import os\n",
    "from langchain_groq import ChatGroq\n",
    "from langchain.prompts import ChatPromptTemplate\n",
    "from langchain_community.document_loaders import PyPDFLoader\n",
    "from pathlib import Path\n",
    "import pandas as pd\n",
    "import httpx\n",
    "\n",
    "clientHttp = httpx.Client(http2=True, verify=False)\n",
    "caminho = Path(r\"..\\src\\pending\")\n",
    "pdfs_pendentes = os.listdir(caminho)\n",
    "conteudo_pdf = \"\"\n",
    "dados_capturados_pdf = []\n",
    "\n",
    "os.environ[\"GROQ_API_KEY\"] = os.getenv(\"API_KEY\")\n",
    "\n",
    "chat = ChatGroq(model=\"llama-3.1-8b-instant\", http_client=clientHttp, streaming=True)\n",
    "\n",
    "for arquivo in pdfs_pendentes:\n",
    "    pdf = Path(rf\"{caminho}/{arquivo}\")\n",
    "    loader = PyPDFLoader(pdf)\n",
    "    dados_pdf = loader.load()\n",
    "    # print(arquivo)\n",
    "    for doc in dados_pdf:\n",
    "        conteudo_pdf += doc.page_content\n",
    "\n",
    "    template = ChatPromptTemplate.from_messages(\n",
    "        [\n",
    "            (\n",
    "                \"system\",\n",
    "                \"Voce é um assistente chamado J-bote, e a partir de agora tem acesso ao {conteudo_pdf}, e por padrao voce retorna APENAS o que usuario solicitou, Ex: qual valor da fatura? Resp: R$ 50,00\",\n",
    "            ),\n",
    "            (\"user\", \"{input}\"),\n",
    "        ]\n",
    "    )\n",
    "\n",
    "    chain = template | chat\n",
    "\n",
    "    resposta = chain.invoke(\n",
    "        {\n",
    "            \"conteudo_pdf\": conteudo_pdf,\n",
    "            \"input\": f\"preencha o {df} com as informações que tem acesso\"\n",
    "        }\n",
    "    )\n",
    "\n",
    "    dados_capturados_pdf.append(resposta.content)\n",
    "    print(resposta.content)"
   ]
  },
  {
   "cell_type": "code",
   "execution_count": null,
   "metadata": {},
   "outputs": [],
   "source": [
    "print(df)"
   ]
  },
  {
   "cell_type": "code",
   "execution_count": null,
   "metadata": {},
   "outputs": [],
   "source": [
    "conteudo_pdf"
   ]
  },
  {
   "cell_type": "code",
   "execution_count": null,
   "metadata": {},
   "outputs": [],
   "source": [
    "resposta = chain.invoke(\n",
    "    {\n",
    "        \"conteudo_pdf\": conteudo_pdf,\n",
    "        \"input\": \"Informe dados do documento disponibilizado, quero as seguintes informações em formato de mapa (python): distribuidora, codigo_de_barras, identificador (isto engloba conta contrato, codigo instalação, unidade consumidora, UC - traga estes sepados por |), codigo_da_instalacao,valor_a_pagar, vencimento, emissao, numero_da_nota_fiscal, mes_referencia, nome_arquivo, seja direto no retorno do contudo, trazendo o dado resumido\"\n",
    "    }\n",
    ")"
   ]
  },
  {
   "cell_type": "markdown",
   "metadata": {},
   "source": [
    "    distribuidora = '\n",
    "    id = [\n",
    "        codigo_de_barras,\n",
    "        codigo_da_instalacao,\n",
    "        conta_contrato,\n",
    "    ]\n",
    "    valor_a_pagar = '\n",
    "    vencimento = '\n",
    "    emissao = '\n",
    "    numero_da_nota_fiscal = '\n",
    "    mes_referencia = '"
   ]
  },
  {
   "cell_type": "code",
   "execution_count": null,
   "metadata": {},
   "outputs": [],
   "source": [
    "from langchain_community.document_loaders import Docx2txtLoader\n",
    "\n",
    "loader = Docx2txtLoader(r\"..\\src\\sucess\\CCVEE_SUZANO S_A_AU-2024_S043814_revEnergia.docx\")\n",
    "\n",
    "data = loader.load()\n",
    "\n"
   ]
  },
  {
   "cell_type": "code",
   "execution_count": null,
   "metadata": {},
   "outputs": [],
   "source": [
    "data[0].page_content"
   ]
  },
  {
   "cell_type": "code",
   "execution_count": null,
   "metadata": {},
   "outputs": [],
   "source": [
    "from groq import Groq\n",
    "\n",
    "client = Groq(\n",
    "    api_key=os.environ.get(\"API_KEY\"),\n",
    ")\n",
    "\n",
    "chat_completion = client.chat.completions.create(\n",
    "    messages=[\n",
    "        {\n",
    "            \"role\": \"user\",\n",
    "            \"content\": \"Explain the importance of fast language models\",\n",
    "        }\n",
    "    ],\n",
    "    model=\"llama-3.3-70b-versatile\",\n",
    "    stream=True,\n",
    ")\n",
    "\n",
    "print(chat_completion.choices[0].message.content)"
   ]
  },
  {
   "cell_type": "code",
   "execution_count": 44,
   "metadata": {},
   "outputs": [
    {
     "ename": "TypeError",
     "evalue": "'Completions' object is not callable",
     "output_type": "error",
     "traceback": [
      "\u001b[1;31m---------------------------------------------------------------------------\u001b[0m",
      "\u001b[1;31mTypeError\u001b[0m                                 Traceback (most recent call last)",
      "Cell \u001b[1;32mIn[44], line 20\u001b[0m\n\u001b[0;32m     14\u001b[0m client \u001b[38;5;241m=\u001b[39m Groq(\n\u001b[0;32m     15\u001b[0m     api_key\u001b[38;5;241m=\u001b[39mos\u001b[38;5;241m.\u001b[39menviron\u001b[38;5;241m.\u001b[39mget(\u001b[38;5;124m\"\u001b[39m\u001b[38;5;124mAPI_KEY\u001b[39m\u001b[38;5;124m\"\u001b[39m),http_client\u001b[38;5;241m=\u001b[39mclientHttp\n\u001b[0;32m     16\u001b[0m )\n\u001b[0;32m     18\u001b[0m os\u001b[38;5;241m.\u001b[39menviron[\u001b[38;5;124m\"\u001b[39m\u001b[38;5;124mGROQ_API_KEY\u001b[39m\u001b[38;5;124m\"\u001b[39m] \u001b[38;5;241m=\u001b[39m os\u001b[38;5;241m.\u001b[39mgetenv(\u001b[38;5;124m\"\u001b[39m\u001b[38;5;124mAPI_KEY\u001b[39m\u001b[38;5;124m\"\u001b[39m)\n\u001b[1;32m---> 20\u001b[0m chat \u001b[38;5;241m=\u001b[39m \u001b[43mclient\u001b[49m\u001b[38;5;241;43m.\u001b[39;49m\u001b[43mchat\u001b[49m\u001b[38;5;241;43m.\u001b[39;49m\u001b[43mcompletions\u001b[49m\u001b[43m(\u001b[49m\u001b[43mmodel\u001b[49m\u001b[38;5;241;43m=\u001b[39;49m\u001b[43m \u001b[49m\u001b[38;5;124;43m\"\u001b[39;49m\u001b[38;5;124;43mllama-3.1-8b-instant\u001b[39;49m\u001b[38;5;124;43m\"\u001b[39;49m\u001b[43m,\u001b[49m\u001b[43m \u001b[49m\u001b[43mstream\u001b[49m\u001b[38;5;241;43m=\u001b[39;49m\u001b[38;5;28;43;01mTrue\u001b[39;49;00m\u001b[43m)\u001b[49m\n\u001b[0;32m     22\u001b[0m \u001b[38;5;28;01mfor\u001b[39;00m arquivo \u001b[38;5;129;01min\u001b[39;00m pdfs_pendentes:\n\u001b[0;32m     23\u001b[0m     pdf \u001b[38;5;241m=\u001b[39m Path(\u001b[38;5;124mrf\u001b[39m\u001b[38;5;124m\"\u001b[39m\u001b[38;5;132;01m{\u001b[39;00mcaminho\u001b[38;5;132;01m}\u001b[39;00m\u001b[38;5;124m/\u001b[39m\u001b[38;5;132;01m{\u001b[39;00marquivo\u001b[38;5;132;01m}\u001b[39;00m\u001b[38;5;124m\"\u001b[39m)\n",
      "\u001b[1;31mTypeError\u001b[0m: 'Completions' object is not callable"
     ]
    }
   ],
   "source": [
    "import os\n",
    "from groq import Groq\n",
    "from langchain.prompts import ChatPromptTemplate\n",
    "from langchain_community.document_loaders import Docx2txtLoader\n",
    "from pathlib import Path\n",
    "import httpx\n",
    "\n",
    "clientHttp = httpx.Client(http2=True, verify=False)\n",
    "caminho = Path(r\"..\\src\\sucess\")\n",
    "pdfs_pendentes = os.listdir(caminho)\n",
    "conteudo_pdf = \"\"\n",
    "dados_capturados_pdf = []\n",
    "\n",
    "client = Groq(\n",
    "    api_key=os.environ.get(\"API_KEY\"),http_client=clientHttp\n",
    ")\n",
    "\n",
    "os.environ[\"GROQ_API_KEY\"] = os.getenv(\"API_KEY\")\n",
    "\n",
    "chat = client.chat.completions(model= \"llama-3.1-8b-instant\", stream=True)\n",
    "\n",
    "for arquivo in pdfs_pendentes:\n",
    "    pdf = Path(rf\"{caminho}/{arquivo}\")\n",
    "    loader = Docx2txtLoader(pdf)\n",
    "    dados_pdf = loader.load()\n",
    "    # print(arquivo)\n",
    "    for doc in dados_pdf:\n",
    "        conteudo_pdf += doc.page_content\n",
    "\n",
    "    template = ChatPromptTemplate.from_messages(\n",
    "        [\n",
    "            (\n",
    "                \"system\",\n",
    "                \"Voce é um assistente chamado J-bote especialista em energia com acesso a {conteudo_pdf}, e deste conteudo, voce só pode responder sobre dados juridicos\",\n",
    "            ),\n",
    "            (\"user\", \"{input}\"),\n",
    "        ]\n",
    "    )\n",
    "\n",
    "    chain = template | chat\n",
    "\n",
    "    resposta = chain.invoke(\n",
    "        {\n",
    "            \"conteudo_pdf\": conteudo_pdf,\n",
    "            \"input\": \"me fale sobre o documento\"\n",
    "        }\n",
    "    )\n",
    "\n",
    "    dados_capturados_pdf.append(resposta.content)\n",
    "    print(resposta.content)"
   ]
  }
 ],
 "metadata": {
  "kernelspec": {
   "display_name": "venv",
   "language": "python",
   "name": "python3"
  },
  "language_info": {
   "codemirror_mode": {
    "name": "ipython",
    "version": 3
   },
   "file_extension": ".py",
   "mimetype": "text/x-python",
   "name": "python",
   "nbconvert_exporter": "python",
   "pygments_lexer": "ipython3",
   "version": "3.12.1"
  }
 },
 "nbformat": 4,
 "nbformat_minor": 2
}
