{
 "cells": [
  {
   "cell_type": "code",
   "execution_count": null,
   "metadata": {},
   "outputs": [],
   "source": [
    "import os\n",
    "from langchain_groq import ChatGroq\n",
    "from langchain.prompts import ChatPromptTemplate\n",
    "from langchain_community.document_loaders import PyPDFLoader\n",
    "from pathlib import Path\n",
    "import pandas as pd\n",
    "import httpx\n",
    "\n",
    "clientHttp = httpx.Client(http2=True, verify=False)\n",
    "caminho = Path(r\"..\\src\\pending\")\n",
    "pdfs_pendentes = os.listdir(caminho)\n",
    "conteudo_pdf = \"\"\n",
    "dados_capturados_pdf = []\n",
    "\n",
    "os.environ[\"GROQ_API_KEY\"] = os.getenv(\"API_KEY\")\n",
    "\n",
    "chat = ChatGroq(model=\"llama-3.1-8b-instant\", http_client=clientHttp)\n",
    "\n",
    "for arquivo in pdfs_pendentes:\n",
    "    pdf = Path(rf\"{caminho}/{arquivo}\")\n",
    "    loader = PyPDFLoader(pdf)\n",
    "    dados_pdf = loader.load()\n",
    "    # print(arquivo)\n",
    "    for doc in dados_pdf:\n",
    "        conteudo_pdf += doc.page_content\n",
    "\n",
    "    template = ChatPromptTemplate.from_messages(\n",
    "        [\n",
    "            (\n",
    "                \"system\",\n",
    "                \"Voce é um assistente chamado J-bote, e a partir de agora tem acesso ao {conteudo_pdf}, você é sempre direto e traz apenas a resposta que foi solicitada.\",\n",
    "            ),\n",
    "            (\"user\", \"{input}\"),\n",
    "        ]\n",
    "    )\n",
    "\n",
    "    chain = template | chat\n",
    "\n",
    "    resposta = chain.invoke(\n",
    "        {\n",
    "            \"conteudo_pdf\": conteudo_pdf,\n",
    "            \"input\": \"traga uma tabela excel com os valores de cada uma das faturas\"\n",
    "        }\n",
    "    )\n",
    "\n",
    "    dados_capturados_pdf.append(resposta.content)\n",
    "    print(resposta.content)"
   ]
  },
  {
   "cell_type": "code",
   "execution_count": null,
   "metadata": {},
   "outputs": [],
   "source": [
    "print(conteudo_pdf)"
   ]
  },
  {
   "cell_type": "code",
   "execution_count": null,
   "metadata": {},
   "outputs": [],
   "source": [
    "conteudo_pdf"
   ]
  },
  {
   "cell_type": "code",
   "execution_count": null,
   "metadata": {},
   "outputs": [],
   "source": [
    "resposta = chain.invoke(\n",
    "    {\n",
    "        \"conteudo_pdf\": conteudo_pdf,\n",
    "        \"input\": \"Informe dados do documento disponibilizado, quero as seguintes informações em formato de mapa (python): distribuidora, codigo_de_barras, identificador (isto engloba conta contrato, codigo instalação, unidade consumidora, UC - traga estes sepados por |), codigo_da_instalacao,valor_a_pagar, vencimento, emissao, numero_da_nota_fiscal, mes_referencia, nome_arquivo, seja direto no retorno do contudo, trazendo o dado resumido\"\n",
    "    }\n",
    ")"
   ]
  },
  {
   "cell_type": "markdown",
   "metadata": {},
   "source": [
    "    distribuidora = '\n",
    "    id = [\n",
    "        codigo_de_barras,\n",
    "        codigo_da_instalacao,\n",
    "        conta_contrato,\n",
    "    ]\n",
    "    valor_a_pagar = '\n",
    "    vencimento = '\n",
    "    emissao = '\n",
    "    numero_da_nota_fiscal = '\n",
    "    mes_referencia = '"
   ]
  }
 ],
 "metadata": {
  "kernelspec": {
   "display_name": "venv",
   "language": "python",
   "name": "python3"
  },
  "language_info": {
   "codemirror_mode": {
    "name": "ipython",
    "version": 3
   },
   "file_extension": ".py",
   "mimetype": "text/x-python",
   "name": "python",
   "nbconvert_exporter": "python",
   "pygments_lexer": "ipython3",
   "version": "3.12.1"
  }
 },
 "nbformat": 4,
 "nbformat_minor": 2
}
